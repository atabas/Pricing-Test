{
 "cells": [
  {
   "cell_type": "markdown",
   "id": "5e4e691b",
   "metadata": {},
   "source": [
    "Company XYZ sells a software for \\\\$39. Since revenue has been flat for some time, the VP of Product has decided to run a test increasing the price. She hopes that this would increase revenue. In the experiment, 66% of the users have seen the old price (\\\\$39), while a random sample of 33% users a higher price (\\\\$59).\n",
    "\n",
    "The test has been running for some time and the VP of Product is interested in understanding how it went and whether it would make sense to increase the price for all the users.\n",
    "\n",
    "Especially, you were asked the following questions:\n",
    "\n",
    "- Should the company sell its software for \\\\$39 or \\\\$59?\n",
    "\n",
    "- The VP of Product is interested in having a holistic view into user behavior, especially focusing on actionable insights that might increase conversion rate. What are your main findings looking at the data?\n",
    "\n",
    "- [Bonus] The VP of Product feels that the test has been running for too long and they should have been able to get statistically significant results in a shorter time. Do you agree with this? After how many days you would have stopped the test? Please, explain why."
   ]
  },
  {
   "cell_type": "code",
   "execution_count": 1,
   "id": "e4f77793",
   "metadata": {},
   "outputs": [],
   "source": [
    "import pandas as pd\n",
    "from scipy import stats\n",
    "import statsmodels.stats.api as sms\n",
    "import numpy as np\n",
    "import seaborn as sns\n",
    "import matplotlib.pyplot as plt \n",
    "\n",
    "from matplotlib import rcParams\n",
    "rcParams.update({'figure.autolayout': True})\n",
    "pd.set_option('display.max_columns', 10)\n",
    "pd.set_option('display.width', 350)"
   ]
  },
  {
   "cell_type": "code",
   "execution_count": 6,
   "id": "41ddef28",
   "metadata": {},
   "outputs": [
    {
     "name": "stdout",
     "output_type": "stream",
     "text": [
      "User table: \n",
      "   user_id         city country    lat    long\n",
      "0   510335      Peabody     USA  42.53  -70.97\n",
      "1    89568         Reno     USA  39.54 -119.82\n",
      "2   434134       Rialto     USA  34.11 -117.39\n",
      "3   289769  Carson City     USA  39.15 -119.74\n",
      "4   939586      Chicago     USA  41.84  -87.68\n",
      "------------------------------------------------------------------------------------------------------\n",
      "Test Results table: \n",
      "   user_id            timestamp          source  device operative_system  test  price  converted\n",
      "0   604839  2015-05-08 03:38:34    ads_facebook  mobile              iOS     0     39          0\n",
      "1   624057  2015-05-10 21:08:46      seo-google  mobile          android     0     39          0\n",
      "2   317970  2015-04-04 15:01:23        ads-bing  mobile          android     0     39          0\n",
      "3   685636  2015-05-07 07:26:01  direct_traffic  mobile              iOS     1     59          0\n",
      "4   820854  2015-05-24 11:04:40    ads_facebook     web              mac     0     39          0\n"
     ]
    }
   ],
   "source": [
    "print(\"User table: \")\n",
    "user = pd.read_csv(\"user_table.csv\")\n",
    "print(user.head())\n",
    "print(\"------------------------------------------------------------------------------------------------------\")\n",
    "print(\"Test Results table: \")\n",
    "test = pd.read_csv(\"test_results.csv\")\n",
    "print(test.head())"
   ]
  },
  {
   "cell_type": "code",
   "execution_count": 11,
   "id": "6552e4b3",
   "metadata": {},
   "outputs": [
    {
     "name": "stdout",
     "output_type": "stream",
     "text": [
      "False False\n"
     ]
    }
   ],
   "source": [
    "# Check for null values\n",
    "print(user.isnull().values.any(), test.isnull().values.any())"
   ]
  },
  {
   "cell_type": "code",
   "execution_count": 12,
   "id": "da4927f3",
   "metadata": {},
   "outputs": [
    {
     "data": {
      "text/html": [
       "<div>\n",
       "<style scoped>\n",
       "    .dataframe tbody tr th:only-of-type {\n",
       "        vertical-align: middle;\n",
       "    }\n",
       "\n",
       "    .dataframe tbody tr th {\n",
       "        vertical-align: top;\n",
       "    }\n",
       "\n",
       "    .dataframe thead th {\n",
       "        text-align: right;\n",
       "    }\n",
       "</style>\n",
       "<table border=\"1\" class=\"dataframe\">\n",
       "  <thead>\n",
       "    <tr style=\"text-align: right;\">\n",
       "      <th></th>\n",
       "      <th>user_id</th>\n",
       "      <th>timestamp</th>\n",
       "      <th>source</th>\n",
       "      <th>device</th>\n",
       "      <th>operative_system</th>\n",
       "      <th>...</th>\n",
       "      <th>converted</th>\n",
       "      <th>city</th>\n",
       "      <th>country</th>\n",
       "      <th>lat</th>\n",
       "      <th>long</th>\n",
       "    </tr>\n",
       "  </thead>\n",
       "  <tbody>\n",
       "    <tr>\n",
       "      <th>0</th>\n",
       "      <td>604839</td>\n",
       "      <td>2015-05-08 03:38:34</td>\n",
       "      <td>ads_facebook</td>\n",
       "      <td>mobile</td>\n",
       "      <td>iOS</td>\n",
       "      <td>...</td>\n",
       "      <td>0</td>\n",
       "      <td>Buffalo</td>\n",
       "      <td>USA</td>\n",
       "      <td>42.89</td>\n",
       "      <td>-78.86</td>\n",
       "    </tr>\n",
       "    <tr>\n",
       "      <th>1</th>\n",
       "      <td>624057</td>\n",
       "      <td>2015-05-10 21:08:46</td>\n",
       "      <td>seo-google</td>\n",
       "      <td>mobile</td>\n",
       "      <td>android</td>\n",
       "      <td>...</td>\n",
       "      <td>0</td>\n",
       "      <td>Lakeville</td>\n",
       "      <td>USA</td>\n",
       "      <td>44.68</td>\n",
       "      <td>-93.24</td>\n",
       "    </tr>\n",
       "    <tr>\n",
       "      <th>2</th>\n",
       "      <td>317970</td>\n",
       "      <td>2015-04-04 15:01:23</td>\n",
       "      <td>ads-bing</td>\n",
       "      <td>mobile</td>\n",
       "      <td>android</td>\n",
       "      <td>...</td>\n",
       "      <td>0</td>\n",
       "      <td>Parma</td>\n",
       "      <td>USA</td>\n",
       "      <td>41.38</td>\n",
       "      <td>-81.73</td>\n",
       "    </tr>\n",
       "    <tr>\n",
       "      <th>3</th>\n",
       "      <td>685636</td>\n",
       "      <td>2015-05-07 07:26:01</td>\n",
       "      <td>direct_traffic</td>\n",
       "      <td>mobile</td>\n",
       "      <td>iOS</td>\n",
       "      <td>...</td>\n",
       "      <td>0</td>\n",
       "      <td>Fayetteville</td>\n",
       "      <td>USA</td>\n",
       "      <td>35.07</td>\n",
       "      <td>-78.90</td>\n",
       "    </tr>\n",
       "    <tr>\n",
       "      <th>4</th>\n",
       "      <td>820854</td>\n",
       "      <td>2015-05-24 11:04:40</td>\n",
       "      <td>ads_facebook</td>\n",
       "      <td>web</td>\n",
       "      <td>mac</td>\n",
       "      <td>...</td>\n",
       "      <td>0</td>\n",
       "      <td>Fishers</td>\n",
       "      <td>USA</td>\n",
       "      <td>39.95</td>\n",
       "      <td>-86.02</td>\n",
       "    </tr>\n",
       "  </tbody>\n",
       "</table>\n",
       "<p>5 rows × 12 columns</p>\n",
       "</div>"
      ],
      "text/plain": [
       "   user_id            timestamp          source  device operative_system  ...  converted          city  country    lat   long\n",
       "0   604839  2015-05-08 03:38:34    ads_facebook  mobile              iOS  ...          0       Buffalo      USA  42.89 -78.86\n",
       "1   624057  2015-05-10 21:08:46      seo-google  mobile          android  ...          0     Lakeville      USA  44.68 -93.24\n",
       "2   317970  2015-04-04 15:01:23        ads-bing  mobile          android  ...          0         Parma      USA  41.38 -81.73\n",
       "3   685636  2015-05-07 07:26:01  direct_traffic  mobile              iOS  ...          0  Fayetteville      USA  35.07 -78.90\n",
       "4   820854  2015-05-24 11:04:40    ads_facebook     web              mac  ...          0       Fishers      USA  39.95 -86.02\n",
       "\n",
       "[5 rows x 12 columns]"
      ]
     },
     "execution_count": 12,
     "metadata": {},
     "output_type": "execute_result"
    }
   ],
   "source": [
    "df = pd.merge(test, user, how='left', on='user_id')\n",
    "df.head()"
   ]
  },
  {
   "cell_type": "code",
   "execution_count": 15,
   "id": "f716ea8e",
   "metadata": {},
   "outputs": [
    {
     "data": {
      "text/plain": [
       "user_id                 0\n",
       "timestamp               0\n",
       "source                  0\n",
       "device                  0\n",
       "operative_system        0\n",
       "test                    0\n",
       "price                   0\n",
       "converted               0\n",
       "city                41184\n",
       "country             41184\n",
       "lat                 41184\n",
       "long                41184\n",
       "dtype: int64"
      ]
     },
     "execution_count": 15,
     "metadata": {},
     "output_type": "execute_result"
    }
   ],
   "source": [
    "# Check if there are users in the test table who are not in the user table\n",
    "df.isnull().sum()"
   ]
  },
  {
   "cell_type": "code",
   "execution_count": 20,
   "id": "d9dd5891",
   "metadata": {},
   "outputs": [
    {
     "data": {
      "text/plain": [
       "41184"
      ]
     },
     "execution_count": 20,
     "metadata": {},
     "output_type": "execute_result"
    }
   ],
   "source": [
    "test.shape[0]- user.shape[0]"
   ]
  },
  {
   "cell_type": "code",
   "execution_count": 29,
   "id": "32b31dc6",
   "metadata": {},
   "outputs": [
    {
     "data": {
      "text/html": [
       "<div>\n",
       "<style scoped>\n",
       "    .dataframe tbody tr th:only-of-type {\n",
       "        vertical-align: middle;\n",
       "    }\n",
       "\n",
       "    .dataframe tbody tr th {\n",
       "        vertical-align: top;\n",
       "    }\n",
       "\n",
       "    .dataframe thead th {\n",
       "        text-align: right;\n",
       "    }\n",
       "</style>\n",
       "<table border=\"1\" class=\"dataframe\">\n",
       "  <thead>\n",
       "    <tr style=\"text-align: right;\">\n",
       "      <th></th>\n",
       "      <th></th>\n",
       "      <th>user_id</th>\n",
       "    </tr>\n",
       "    <tr>\n",
       "      <th>test</th>\n",
       "      <th>price</th>\n",
       "      <th></th>\n",
       "    </tr>\n",
       "  </thead>\n",
       "  <tbody>\n",
       "    <tr>\n",
       "      <th rowspan=\"2\" valign=\"top\">0</th>\n",
       "      <th>39</th>\n",
       "      <td>202517</td>\n",
       "    </tr>\n",
       "    <tr>\n",
       "      <th>59</th>\n",
       "      <td>210</td>\n",
       "    </tr>\n",
       "    <tr>\n",
       "      <th rowspan=\"2\" valign=\"top\">1</th>\n",
       "      <th>39</th>\n",
       "      <td>155</td>\n",
       "    </tr>\n",
       "    <tr>\n",
       "      <th>59</th>\n",
       "      <td>113918</td>\n",
       "    </tr>\n",
       "  </tbody>\n",
       "</table>\n",
       "</div>"
      ],
      "text/plain": [
       "            user_id\n",
       "test price         \n",
       "0    39      202517\n",
       "     59         210\n",
       "1    39         155\n",
       "     59      113918"
      ]
     },
     "execution_count": 29,
     "metadata": {},
     "output_type": "execute_result"
    }
   ],
   "source": [
    "df[['test', 'price', 'user_id']].groupby(['test', 'price']).count()"
   ]
  },
  {
   "cell_type": "markdown",
   "id": "f1991ba6",
   "metadata": {},
   "source": [
    "We notice that some users are getting the wrong price in the test/control groups. Let's filter those values."
   ]
  },
  {
   "cell_type": "code",
   "execution_count": 31,
   "id": "1fb12cc7",
   "metadata": {},
   "outputs": [
    {
     "data": {
      "text/html": [
       "<div>\n",
       "<style scoped>\n",
       "    .dataframe tbody tr th:only-of-type {\n",
       "        vertical-align: middle;\n",
       "    }\n",
       "\n",
       "    .dataframe tbody tr th {\n",
       "        vertical-align: top;\n",
       "    }\n",
       "\n",
       "    .dataframe thead th {\n",
       "        text-align: right;\n",
       "    }\n",
       "</style>\n",
       "<table border=\"1\" class=\"dataframe\">\n",
       "  <thead>\n",
       "    <tr style=\"text-align: right;\">\n",
       "      <th></th>\n",
       "      <th></th>\n",
       "      <th>user_id</th>\n",
       "    </tr>\n",
       "    <tr>\n",
       "      <th>test</th>\n",
       "      <th>price</th>\n",
       "      <th></th>\n",
       "    </tr>\n",
       "  </thead>\n",
       "  <tbody>\n",
       "    <tr>\n",
       "      <th>0</th>\n",
       "      <th>39</th>\n",
       "      <td>202517</td>\n",
       "    </tr>\n",
       "    <tr>\n",
       "      <th>1</th>\n",
       "      <th>59</th>\n",
       "      <td>113918</td>\n",
       "    </tr>\n",
       "  </tbody>\n",
       "</table>\n",
       "</div>"
      ],
      "text/plain": [
       "            user_id\n",
       "test price         \n",
       "0    39      202517\n",
       "1    59      113918"
      ]
     },
     "execution_count": 31,
     "metadata": {},
     "output_type": "execute_result"
    }
   ],
   "source": [
    "df = df[((df['test']==0) & (df['price']==39)) | ((df['test']==1) & (df['price']==59))]\n",
    "df[['user_id','test','price']].groupby(['test','price']).count()"
   ]
  },
  {
   "cell_type": "code",
   "execution_count": 40,
   "id": "6d12cfeb",
   "metadata": {},
   "outputs": [
    {
     "name": "stdout",
     "output_type": "stream",
     "text": [
      "test\n",
      "0    0.019900\n",
      "1    0.015555\n",
      "Name: converted, dtype: float64\n",
      "test\n",
      "0    0.776083\n",
      "1    0.917748\n",
      "Name: revenue, dtype: float64\n"
     ]
    },
    {
     "name": "stderr",
     "output_type": "stream",
     "text": [
      "/tmp/ipykernel_13777/558984852.py:1: SettingWithCopyWarning: \n",
      "A value is trying to be set on a copy of a slice from a DataFrame.\n",
      "Try using .loc[row_indexer,col_indexer] = value instead\n",
      "\n",
      "See the caveats in the documentation: https://pandas.pydata.org/pandas-docs/stable/user_guide/indexing.html#returning-a-view-versus-a-copy\n",
      "  df['revenue'] = df['converted']*df['price']\n"
     ]
    }
   ],
   "source": [
    "df['revenue'] = df['converted']*df['price']\n",
    "\n",
    "print(df.groupby('test')['converted'].mean())\n",
    "print(df.groupby('test')['revenue'].mean())"
   ]
  },
  {
   "cell_type": "markdown",
   "id": "0a5c8bab",
   "metadata": {},
   "source": [
    "Conversion rate went down (0.015555-0.019900/0.019900 = approximately 22%) but revenue is up."
   ]
  },
  {
   "cell_type": "code",
   "execution_count": 43,
   "id": "9a508aaf",
   "metadata": {},
   "outputs": [
    {
     "name": "stdout",
     "output_type": "stream",
     "text": [
      "5.715224666463108 1.0972577312420781e-08\n"
     ]
    }
   ],
   "source": [
    "test = stats.ttest_ind(df.loc[df['test'] == 1]['revenue'],\n",
    "                      df.loc[df['test'] == 0]['revenue'],\n",
    "                      equal_var=False)\n",
    "# equal_varbool, optional.If True (default), perform a standard independent 2 sample test that assumes equal \n",
    "# population variances [1]. If False, perform Welch’s t-test, which does not assume equal population variance \n",
    "print(test.statistic, test.pvalue)"
   ]
  },
  {
   "cell_type": "code",
   "execution_count": 44,
   "id": "2b7408bc",
   "metadata": {},
   "outputs": [
    {
     "name": "stdout",
     "output_type": "stream",
     "text": [
      "Statistically better results\n"
     ]
    }
   ],
   "source": [
    "#print test results\n",
    "if (test.pvalue>0.05):\n",
    "  print (\"Non-significant results\")\n",
    "elif (test.statistic>0):\n",
    "  print (\"Statistically better results\")\n",
    "else:\n",
    "  print (\"Statistically worse results\")"
   ]
  },
  {
   "cell_type": "code",
   "execution_count": 56,
   "id": "a33e1f65",
   "metadata": {},
   "outputs": [
    {
     "data": {
      "image/png": "[encoded data removed]",
      "text/plain": [
       "<Figure size 432x288 with 1 Axes>"
      ]
     },
     "metadata": {
      "needs_background": "light"
     },
     "output_type": "display_data"
    }
   ],
   "source": [
    "sns.barplot(x='source', y='revenue', hue='test', data=df)\n",
    "plt.xticks(rotation=45)\n",
    "\n",
    "plt.show()"
   ]
  },
  {
   "cell_type": "code",
   "execution_count": 57,
   "id": "f3217201",
   "metadata": {},
   "outputs": [
    {
     "data": {
      "image/png": "[encoded data removed]",
      "text/plain": [
       "<Figure size 1440x576 with 2 Axes>"
      ]
     },
     "metadata": {
      "needs_background": "light"
     },
     "output_type": "display_data"
    }
   ],
   "source": [
    "fig, (ax1, ax2) = plt.subplots(1,2,figsize=(20,8))\n",
    "\n",
    "sns.barplot(x='device', y='revenue', hue='test', data=df, ax=ax1)\n",
    "sns.barplot(x='operative_system',y='revenue', hue='test', data=df, ax=ax2)\n",
    "\n",
    "plt.xticks(rotation=45)\n",
    "\n",
    "plt.show()"
   ]
  },
  {
   "cell_type": "markdown",
   "id": "2276a30f",
   "metadata": {},
   "source": [
    "It seems that Limux has no conversion rate on test, which is likely a bug"
   ]
  },
  {
   "cell_type": "code",
   "execution_count": 74,
   "id": "44263f2b",
   "metadata": {},
   "outputs": [
    {
     "data": {
      "text/plain": [
       "0.01305165357814401"
      ]
     },
     "execution_count": 74,
     "metadata": {},
     "output_type": "execute_result"
    }
   ],
   "source": [
    "df_linux = df.loc[df['operative_system'] == 'linux']\n",
    "df_linux.shape[0] / df.shape[0]"
   ]
  },
  {
   "cell_type": "code",
   "execution_count": 75,
   "id": "64121601",
   "metadata": {},
   "outputs": [
    {
     "data": {
      "text/plain": [
       "Ttest_indResult(statistic=6.184240028400434, pvalue=6.253458285742887e-10)"
      ]
     },
     "execution_count": 75,
     "metadata": {},
     "output_type": "execute_result"
    }
   ],
   "source": [
    "df_not_linux = df.loc[df['operative_system'] != 'linux']\n",
    "test = stats.ttest_ind(df_not_linux.loc[df_not_linux['test'] == 1]['revenue'],\n",
    "                      df_not_linux.loc[df_not_linux['test'] == 0]['revenue'],\n",
    "                      equal_var=False)\n",
    "test"
   ]
  },
  {
   "cell_type": "markdown",
   "id": "4f167820",
   "metadata": {},
   "source": [
    "Overall numbers seem to have improved slightly"
   ]
  },
  {
   "cell_type": "code",
   "execution_count": 101,
   "id": "1823d74d",
   "metadata": {},
   "outputs": [
    {
     "data": {
      "text/html": [
       "<div>\n",
       "<style scoped>\n",
       "    .dataframe tbody tr th:only-of-type {\n",
       "        vertical-align: middle;\n",
       "    }\n",
       "\n",
       "    .dataframe tbody tr th {\n",
       "        vertical-align: top;\n",
       "    }\n",
       "\n",
       "    .dataframe thead th {\n",
       "        text-align: right;\n",
       "    }\n",
       "</style>\n",
       "<table border=\"1\" class=\"dataframe\">\n",
       "  <thead>\n",
       "    <tr style=\"text-align: right;\">\n",
       "      <th></th>\n",
       "      <th>city</th>\n",
       "      <th>count</th>\n",
       "    </tr>\n",
       "  </thead>\n",
       "  <tbody>\n",
       "    <tr>\n",
       "      <th>0</th>\n",
       "      <td>New York</td>\n",
       "      <td>25401</td>\n",
       "    </tr>\n",
       "    <tr>\n",
       "      <th>1</th>\n",
       "      <td>Chicago</td>\n",
       "      <td>7071</td>\n",
       "    </tr>\n",
       "    <tr>\n",
       "      <th>2</th>\n",
       "      <td>Houston</td>\n",
       "      <td>6608</td>\n",
       "    </tr>\n",
       "    <tr>\n",
       "      <th>3</th>\n",
       "      <td>San Antonio</td>\n",
       "      <td>4554</td>\n",
       "    </tr>\n",
       "    <tr>\n",
       "      <th>4</th>\n",
       "      <td>Los Angeles</td>\n",
       "      <td>4089</td>\n",
       "    </tr>\n",
       "    <tr>\n",
       "      <th>5</th>\n",
       "      <td>San Jose</td>\n",
       "      <td>3312</td>\n",
       "    </tr>\n",
       "    <tr>\n",
       "      <th>6</th>\n",
       "      <td>Indianapolis</td>\n",
       "      <td>3177</td>\n",
       "    </tr>\n",
       "    <tr>\n",
       "      <th>7</th>\n",
       "      <td>Jacksonville</td>\n",
       "      <td>2865</td>\n",
       "    </tr>\n",
       "    <tr>\n",
       "      <th>8</th>\n",
       "      <td>Philadelphia</td>\n",
       "      <td>2488</td>\n",
       "    </tr>\n",
       "    <tr>\n",
       "      <th>9</th>\n",
       "      <td>Las Vegas</td>\n",
       "      <td>2375</td>\n",
       "    </tr>\n",
       "  </tbody>\n",
       "</table>\n",
       "</div>"
      ],
      "text/plain": [
       "           city  count\n",
       "0      New York  25401\n",
       "1       Chicago   7071\n",
       "2       Houston   6608\n",
       "3   San Antonio   4554\n",
       "4   Los Angeles   4089\n",
       "5      San Jose   3312\n",
       "6  Indianapolis   3177\n",
       "7  Jacksonville   2865\n",
       "8  Philadelphia   2488\n",
       "9     Las Vegas   2375"
      ]
     },
     "execution_count": 101,
     "metadata": {},
     "output_type": "execute_result"
    }
   ],
   "source": [
    "top_cities = df_not_linux['city'].value_counts().sort_values(ascending=False).head(10).reset_index()\n",
    "top_cities"
   ]
  },
  {
   "cell_type": "code",
   "execution_count": 103,
   "id": "bf193da2",
   "metadata": {},
   "outputs": [],
   "source": [
    "df_top_cities = df_not_linux.loc[df_not_linux['city'].isin(top_cities['city'])]"
   ]
  },
  {
   "cell_type": "code",
   "execution_count": 104,
   "id": "95b97fc4",
   "metadata": {},
   "outputs": [
    {
     "data": {
      "text/html": [
       "<div>\n",
       "<style scoped>\n",
       "    .dataframe tbody tr th:only-of-type {\n",
       "        vertical-align: middle;\n",
       "    }\n",
       "\n",
       "    .dataframe tbody tr th {\n",
       "        vertical-align: top;\n",
       "    }\n",
       "\n",
       "    .dataframe thead th {\n",
       "        text-align: right;\n",
       "    }\n",
       "</style>\n",
       "<table border=\"1\" class=\"dataframe\">\n",
       "  <thead>\n",
       "    <tr style=\"text-align: right;\">\n",
       "      <th></th>\n",
       "      <th>user_id</th>\n",
       "      <th>timestamp</th>\n",
       "      <th>source</th>\n",
       "      <th>device</th>\n",
       "      <th>operative_system</th>\n",
       "      <th>...</th>\n",
       "      <th>city</th>\n",
       "      <th>country</th>\n",
       "      <th>lat</th>\n",
       "      <th>long</th>\n",
       "      <th>revenue</th>\n",
       "    </tr>\n",
       "  </thead>\n",
       "  <tbody>\n",
       "    <tr>\n",
       "      <th>5</th>\n",
       "      <td>169971</td>\n",
       "      <td>2015-04-13 12:07:08</td>\n",
       "      <td>ads-google</td>\n",
       "      <td>mobile</td>\n",
       "      <td>iOS</td>\n",
       "      <td>...</td>\n",
       "      <td>New York</td>\n",
       "      <td>USA</td>\n",
       "      <td>40.67</td>\n",
       "      <td>-73.94</td>\n",
       "      <td>0</td>\n",
       "    </tr>\n",
       "    <tr>\n",
       "      <th>18</th>\n",
       "      <td>599771</td>\n",
       "      <td>2015-03-28 18:41:37</td>\n",
       "      <td>direct_traffic</td>\n",
       "      <td>mobile</td>\n",
       "      <td>iOS</td>\n",
       "      <td>...</td>\n",
       "      <td>Chicago</td>\n",
       "      <td>USA</td>\n",
       "      <td>41.84</td>\n",
       "      <td>-87.68</td>\n",
       "      <td>0</td>\n",
       "    </tr>\n",
       "    <tr>\n",
       "      <th>20</th>\n",
       "      <td>747762</td>\n",
       "      <td>2015-04-04 23:10:20</td>\n",
       "      <td>ads_facebook</td>\n",
       "      <td>mobile</td>\n",
       "      <td>iOS</td>\n",
       "      <td>...</td>\n",
       "      <td>New York</td>\n",
       "      <td>USA</td>\n",
       "      <td>40.67</td>\n",
       "      <td>-73.94</td>\n",
       "      <td>0</td>\n",
       "    </tr>\n",
       "    <tr>\n",
       "      <th>22</th>\n",
       "      <td>672422</td>\n",
       "      <td>2015-05-31 10:29:32</td>\n",
       "      <td>ads_other</td>\n",
       "      <td>web</td>\n",
       "      <td>windows</td>\n",
       "      <td>...</td>\n",
       "      <td>New York</td>\n",
       "      <td>USA</td>\n",
       "      <td>40.67</td>\n",
       "      <td>-73.94</td>\n",
       "      <td>0</td>\n",
       "    </tr>\n",
       "    <tr>\n",
       "      <th>32</th>\n",
       "      <td>314759</td>\n",
       "      <td>2015-05-01 05:18:29</td>\n",
       "      <td>ads_other</td>\n",
       "      <td>mobile</td>\n",
       "      <td>other</td>\n",
       "      <td>...</td>\n",
       "      <td>Las Vegas</td>\n",
       "      <td>USA</td>\n",
       "      <td>36.21</td>\n",
       "      <td>-115.22</td>\n",
       "      <td>0</td>\n",
       "    </tr>\n",
       "    <tr>\n",
       "      <th>...</th>\n",
       "      <td>...</td>\n",
       "      <td>...</td>\n",
       "      <td>...</td>\n",
       "      <td>...</td>\n",
       "      <td>...</td>\n",
       "      <td>...</td>\n",
       "      <td>...</td>\n",
       "      <td>...</td>\n",
       "      <td>...</td>\n",
       "      <td>...</td>\n",
       "      <td>...</td>\n",
       "    </tr>\n",
       "    <tr>\n",
       "      <th>316766</th>\n",
       "      <td>344683</td>\n",
       "      <td>2015-04-18 16:55:53</td>\n",
       "      <td>direct_traffic</td>\n",
       "      <td>web</td>\n",
       "      <td>windows</td>\n",
       "      <td>...</td>\n",
       "      <td>Chicago</td>\n",
       "      <td>USA</td>\n",
       "      <td>41.84</td>\n",
       "      <td>-87.68</td>\n",
       "      <td>0</td>\n",
       "    </tr>\n",
       "    <tr>\n",
       "      <th>316779</th>\n",
       "      <td>267582</td>\n",
       "      <td>2015-04-06 12:24:29</td>\n",
       "      <td>direct_traffic</td>\n",
       "      <td>web</td>\n",
       "      <td>windows</td>\n",
       "      <td>...</td>\n",
       "      <td>New York</td>\n",
       "      <td>USA</td>\n",
       "      <td>40.67</td>\n",
       "      <td>-73.94</td>\n",
       "      <td>0</td>\n",
       "    </tr>\n",
       "    <tr>\n",
       "      <th>316780</th>\n",
       "      <td>444264</td>\n",
       "      <td>2015-05-31 23:52:41</td>\n",
       "      <td>ads-google</td>\n",
       "      <td>mobile</td>\n",
       "      <td>iOS</td>\n",
       "      <td>...</td>\n",
       "      <td>New York</td>\n",
       "      <td>USA</td>\n",
       "      <td>40.67</td>\n",
       "      <td>-73.94</td>\n",
       "      <td>0</td>\n",
       "    </tr>\n",
       "    <tr>\n",
       "      <th>316791</th>\n",
       "      <td>26514</td>\n",
       "      <td>2015-05-26 15:55:08</td>\n",
       "      <td>seo_facebook</td>\n",
       "      <td>web</td>\n",
       "      <td>windows</td>\n",
       "      <td>...</td>\n",
       "      <td>Philadelphia</td>\n",
       "      <td>USA</td>\n",
       "      <td>40.01</td>\n",
       "      <td>-75.13</td>\n",
       "      <td>0</td>\n",
       "    </tr>\n",
       "    <tr>\n",
       "      <th>316799</th>\n",
       "      <td>832372</td>\n",
       "      <td>2015-03-08 17:12:33</td>\n",
       "      <td>ads_facebook</td>\n",
       "      <td>mobile</td>\n",
       "      <td>android</td>\n",
       "      <td>...</td>\n",
       "      <td>Chicago</td>\n",
       "      <td>USA</td>\n",
       "      <td>41.84</td>\n",
       "      <td>-87.68</td>\n",
       "      <td>0</td>\n",
       "    </tr>\n",
       "  </tbody>\n",
       "</table>\n",
       "<p>61940 rows × 13 columns</p>\n",
       "</div>"
      ],
      "text/plain": [
       "        user_id            timestamp          source  device operative_system  ...          city  country    lat    long revenue\n",
       "5        169971  2015-04-13 12:07:08      ads-google  mobile              iOS  ...      New York      USA  40.67  -73.94       0\n",
       "18       599771  2015-03-28 18:41:37  direct_traffic  mobile              iOS  ...       Chicago      USA  41.84  -87.68       0\n",
       "20       747762  2015-04-04 23:10:20    ads_facebook  mobile              iOS  ...      New York      USA  40.67  -73.94       0\n",
       "22       672422  2015-05-31 10:29:32       ads_other     web          windows  ...      New York      USA  40.67  -73.94       0\n",
       "32       314759  2015-05-01 05:18:29       ads_other  mobile            other  ...     Las Vegas      USA  36.21 -115.22       0\n",
       "...         ...                  ...             ...     ...              ...  ...           ...      ...    ...     ...     ...\n",
       "316766   344683  2015-04-18 16:55:53  direct_traffic     web          windows  ...       Chicago      USA  41.84  -87.68       0\n",
       "316779   267582  2015-04-06 12:24:29  direct_traffic     web          windows  ...      New York      USA  40.67  -73.94       0\n",
       "316780   444264  2015-05-31 23:52:41      ads-google  mobile              iOS  ...      New York      USA  40.67  -73.94       0\n",
       "316791    26514  2015-05-26 15:55:08    seo_facebook     web          windows  ...  Philadelphia      USA  40.01  -75.13       0\n",
       "316799   832372  2015-03-08 17:12:33    ads_facebook  mobile          android  ...       Chicago      USA  41.84  -87.68       0\n",
       "\n",
       "[61940 rows x 13 columns]"
      ]
     },
     "execution_count": 104,
     "metadata": {},
     "output_type": "execute_result"
    }
   ],
   "source": [
    "df_top_cities"
   ]
  },
  {
   "cell_type": "code",
   "execution_count": 105,
   "id": "3aae4f76",
   "metadata": {},
   "outputs": [
    {
     "data": {
      "image/png": "[encoded data removed]",
      "text/plain": [
       "<Figure size 432x288 with 1 Axes>"
      ]
     },
     "metadata": {
      "needs_background": "light"
     },
     "output_type": "display_data"
    }
   ],
   "source": [
    "sns.barplot(x='city', y='revenue', hue='test', data=df_top_cities)\n",
    "plt.xticks(rotation=45)\n",
    "plt.show()"
   ]
  },
  {
   "cell_type": "markdown",
   "id": "8afe3d48",
   "metadata": {},
   "source": [
    "The test has won in terms of revenue.\n",
    "We are losing approx 22% of customers though.\n",
    "Larger revenue per user means company can invest more money in marketing channels\n",
    "\n",
    "Insights:\n",
    "- Friend referral is the best channel\n",
    "- FB/Google ads have 2nd higher revenue per user than any other channel. SEO also has good revenue, and is free. Increasing traffic for SEO would lead to a good increase in revenue\n",
    "- Mobile has more revenue per user than web. Focusing on mobile ads and traffic can make more money. \n",
    "- iOS is better than Android. iOS users could be less price sensitive than Android users. We could still investigate the differences in product between 2 platforms."
   ]
  },
  {
   "cell_type": "markdown",
   "id": "ab28a2e4",
   "metadata": {},
   "source": [
    "###  The VP of Product feels that the test has been running for too long and they should have been able to get statistically significant results in a shorter time. Do you agree with this? After how many days you would have stopped the test? Please, explain why."
   ]
  },
  {
   "cell_type": "code",
   "execution_count": 106,
   "id": "a3bf82d3",
   "metadata": {},
   "outputs": [
    {
     "name": "stdout",
     "output_type": "stream",
     "text": [
      "The required sample size per group is ~ 5549\n"
     ]
    }
   ],
   "source": [
    "conversion_rate_control = df.loc[df['test'] == 0]['converted'].mean()\n",
    "p1_and_p2 = sms.proportion_effectsize(conversion_rate_control, conversion_rate_control*39/59)\n",
    "sample_size = sms.NormalIndPower().solve_power(p1_and_p2, power=0.8, alpha=0.05)\n",
    "print(\"The required sample size per group is ~\", round(sample_size))"
   ]
  },
  {
   "cell_type": "code",
   "execution_count": 118,
   "id": "bd4cf9ee",
   "metadata": {},
   "outputs": [],
   "source": [
    "df['week_of_year'] = pd.to_datetime(df['timestamp'].str.split(' ').str[0]).dt.strftime('%W')"
   ]
  },
  {
   "cell_type": "code",
   "execution_count": 119,
   "id": "b1b52b46",
   "metadata": {},
   "outputs": [
    {
     "data": {
      "text/plain": [
       "week_of_year\n",
       "09    24674\n",
       "10    24257\n",
       "11    24454\n",
       "12    24433\n",
       "13    24018\n",
       "14    24860\n",
       "15    24188\n",
       "16    24253\n",
       "17    24352\n",
       "18    24528\n",
       "19    24242\n",
       "20    24042\n",
       "21    24134\n",
       "Name: count, dtype: int64"
      ]
     },
     "execution_count": 119,
     "metadata": {},
     "output_type": "execute_result"
    }
   ],
   "source": [
    "df['week_of_year'].value_counts().sort_index()"
   ]
  },
  {
   "cell_type": "code",
   "execution_count": 124,
   "id": "262114b3",
   "metadata": {},
   "outputs": [
    {
     "data": {
      "text/plain": [
       "24341"
      ]
     },
     "execution_count": 124,
     "metadata": {},
     "output_type": "execute_result"
    }
   ],
   "source": [
    "users_per_week = round(df['week_of_year'].value_counts().mean())\n",
    "users_per_week"
   ]
  },
  {
   "cell_type": "markdown",
   "id": "4b7da066",
   "metadata": {},
   "source": [
    "If we ran the test on 50% of the users, we would be done in less than a week. However, it is a good practice to run the test for at least two weeks for weekly patterns. We can look at the minimum percentage of users that would need to be in test to get the required sample size in two weeks:"
   ]
  },
  {
   "cell_type": "code",
   "execution_count": 126,
   "id": "17dcb77d",
   "metadata": {},
   "outputs": [
    {
     "name": "stdout",
     "output_type": "stream",
     "text": [
      "The percentage of traffic needed in test: 11\n"
     ]
    }
   ],
   "source": [
    "print(\"The percentage of traffic needed in test:\", round(sample_size/(users_per_week*2)*100))"
   ]
  },
  {
   "cell_type": "code",
   "execution_count": null,
   "id": "fc940c9d",
   "metadata": {},
   "outputs": [],
   "source": []
  }
 ],
 "metadata": {
  "kernelspec": {
   "display_name": "Python 3 (ipykernel)",
   "language": "python",
   "name": "python3"
  },
  "language_info": {
   "codemirror_mode": {
    "name": "ipython",
    "version": 3
   },
   "file_extension": ".py",
   "mimetype": "text/x-python",
   "name": "python",
   "nbconvert_exporter": "python",
   "pygments_lexer": "ipython3",
   "version": "3.8.12"
  }
 },
 "nbformat": 4,
 "nbformat_minor": 5
}
